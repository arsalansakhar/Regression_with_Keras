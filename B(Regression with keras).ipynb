{
 "cells": [
  {
   "cell_type": "code",
   "execution_count": 1,
   "id": "7f6e4788",
   "metadata": {},
   "outputs": [],
   "source": [
    "import pandas as pd\n",
    "import numpy as np"
   ]
  },
  {
   "cell_type": "raw",
   "id": "c61a1c1f",
   "metadata": {},
   "source": [
    "# The dataset is about the compressive strength of different samples of concrete based on the volumes of the different ingredients that were used to make them. Ingredients include:\n",
    "\n",
    "1. Cement\n",
    "\n",
    "2. Blast Furnace Slag\n",
    "\n",
    "3. Fly Ash\n",
    "\n",
    "4. Water\n",
    "\n",
    "5. Superplasticizer\n",
    "\n",
    "6. Coarse Aggregate\n",
    "\n",
    "7. Fine Aggregate"
   ]
  },
  {
   "cell_type": "code",
   "execution_count": 3,
   "id": "b79e5d00",
   "metadata": {},
   "outputs": [
    {
     "data": {
      "text/html": [
       "<div>\n",
       "<style scoped>\n",
       "    .dataframe tbody tr th:only-of-type {\n",
       "        vertical-align: middle;\n",
       "    }\n",
       "\n",
       "    .dataframe tbody tr th {\n",
       "        vertical-align: top;\n",
       "    }\n",
       "\n",
       "    .dataframe thead th {\n",
       "        text-align: right;\n",
       "    }\n",
       "</style>\n",
       "<table border=\"1\" class=\"dataframe\">\n",
       "  <thead>\n",
       "    <tr style=\"text-align: right;\">\n",
       "      <th></th>\n",
       "      <th>Cement</th>\n",
       "      <th>Blast Furnace Slag</th>\n",
       "      <th>Fly Ash</th>\n",
       "      <th>Water</th>\n",
       "      <th>Superplasticizer</th>\n",
       "      <th>Coarse Aggregate</th>\n",
       "      <th>Fine Aggregate</th>\n",
       "      <th>Age</th>\n",
       "      <th>Strength</th>\n",
       "    </tr>\n",
       "  </thead>\n",
       "  <tbody>\n",
       "    <tr>\n",
       "      <th>0</th>\n",
       "      <td>540.0</td>\n",
       "      <td>0.0</td>\n",
       "      <td>0.0</td>\n",
       "      <td>162.0</td>\n",
       "      <td>2.5</td>\n",
       "      <td>1040.0</td>\n",
       "      <td>676.0</td>\n",
       "      <td>28</td>\n",
       "      <td>79.99</td>\n",
       "    </tr>\n",
       "    <tr>\n",
       "      <th>1</th>\n",
       "      <td>540.0</td>\n",
       "      <td>0.0</td>\n",
       "      <td>0.0</td>\n",
       "      <td>162.0</td>\n",
       "      <td>2.5</td>\n",
       "      <td>1055.0</td>\n",
       "      <td>676.0</td>\n",
       "      <td>28</td>\n",
       "      <td>61.89</td>\n",
       "    </tr>\n",
       "    <tr>\n",
       "      <th>2</th>\n",
       "      <td>332.5</td>\n",
       "      <td>142.5</td>\n",
       "      <td>0.0</td>\n",
       "      <td>228.0</td>\n",
       "      <td>0.0</td>\n",
       "      <td>932.0</td>\n",
       "      <td>594.0</td>\n",
       "      <td>270</td>\n",
       "      <td>40.27</td>\n",
       "    </tr>\n",
       "    <tr>\n",
       "      <th>3</th>\n",
       "      <td>332.5</td>\n",
       "      <td>142.5</td>\n",
       "      <td>0.0</td>\n",
       "      <td>228.0</td>\n",
       "      <td>0.0</td>\n",
       "      <td>932.0</td>\n",
       "      <td>594.0</td>\n",
       "      <td>365</td>\n",
       "      <td>41.05</td>\n",
       "    </tr>\n",
       "    <tr>\n",
       "      <th>4</th>\n",
       "      <td>198.6</td>\n",
       "      <td>132.4</td>\n",
       "      <td>0.0</td>\n",
       "      <td>192.0</td>\n",
       "      <td>0.0</td>\n",
       "      <td>978.4</td>\n",
       "      <td>825.5</td>\n",
       "      <td>360</td>\n",
       "      <td>44.30</td>\n",
       "    </tr>\n",
       "  </tbody>\n",
       "</table>\n",
       "</div>"
      ],
      "text/plain": [
       "   Cement  Blast Furnace Slag  Fly Ash  Water  Superplasticizer  \\\n",
       "0   540.0                 0.0      0.0  162.0               2.5   \n",
       "1   540.0                 0.0      0.0  162.0               2.5   \n",
       "2   332.5               142.5      0.0  228.0               0.0   \n",
       "3   332.5               142.5      0.0  228.0               0.0   \n",
       "4   198.6               132.4      0.0  192.0               0.0   \n",
       "\n",
       "   Coarse Aggregate  Fine Aggregate  Age  Strength  \n",
       "0            1040.0           676.0   28     79.99  \n",
       "1            1055.0           676.0   28     61.89  \n",
       "2             932.0           594.0  270     40.27  \n",
       "3             932.0           594.0  365     41.05  \n",
       "4             978.4           825.5  360     44.30  "
      ]
     },
     "execution_count": 3,
     "metadata": {},
     "output_type": "execute_result"
    }
   ],
   "source": [
    "concrete_data = pd.read_csv('https://s3-api.us-geo.objectstorage.softlayer.net/cf-courses-data/CognitiveClass/DL0101EN/labs/data/concrete_data.csv')\n",
    "concrete_data.head()"
   ]
  },
  {
   "cell_type": "code",
   "execution_count": 4,
   "id": "2433b482",
   "metadata": {},
   "outputs": [
    {
     "data": {
      "text/plain": [
       "(1030, 9)"
      ]
     },
     "execution_count": 4,
     "metadata": {},
     "output_type": "execute_result"
    }
   ],
   "source": [
    "concrete_data.shape"
   ]
  },
  {
   "cell_type": "code",
   "execution_count": 6,
   "id": "d206b0ca",
   "metadata": {},
   "outputs": [
    {
     "data": {
      "text/html": [
       "<div>\n",
       "<style scoped>\n",
       "    .dataframe tbody tr th:only-of-type {\n",
       "        vertical-align: middle;\n",
       "    }\n",
       "\n",
       "    .dataframe tbody tr th {\n",
       "        vertical-align: top;\n",
       "    }\n",
       "\n",
       "    .dataframe thead th {\n",
       "        text-align: right;\n",
       "    }\n",
       "</style>\n",
       "<table border=\"1\" class=\"dataframe\">\n",
       "  <thead>\n",
       "    <tr style=\"text-align: right;\">\n",
       "      <th></th>\n",
       "      <th>Cement</th>\n",
       "      <th>Blast Furnace Slag</th>\n",
       "      <th>Fly Ash</th>\n",
       "      <th>Water</th>\n",
       "      <th>Superplasticizer</th>\n",
       "      <th>Coarse Aggregate</th>\n",
       "      <th>Fine Aggregate</th>\n",
       "      <th>Age</th>\n",
       "      <th>Strength</th>\n",
       "    </tr>\n",
       "  </thead>\n",
       "  <tbody>\n",
       "    <tr>\n",
       "      <th>count</th>\n",
       "      <td>1030.000000</td>\n",
       "      <td>1030.000000</td>\n",
       "      <td>1030.000000</td>\n",
       "      <td>1030.000000</td>\n",
       "      <td>1030.000000</td>\n",
       "      <td>1030.000000</td>\n",
       "      <td>1030.000000</td>\n",
       "      <td>1030.000000</td>\n",
       "      <td>1030.000000</td>\n",
       "    </tr>\n",
       "    <tr>\n",
       "      <th>mean</th>\n",
       "      <td>281.167864</td>\n",
       "      <td>73.895825</td>\n",
       "      <td>54.188350</td>\n",
       "      <td>181.567282</td>\n",
       "      <td>6.204660</td>\n",
       "      <td>972.918932</td>\n",
       "      <td>773.580485</td>\n",
       "      <td>45.662136</td>\n",
       "      <td>35.817961</td>\n",
       "    </tr>\n",
       "    <tr>\n",
       "      <th>std</th>\n",
       "      <td>104.506364</td>\n",
       "      <td>86.279342</td>\n",
       "      <td>63.997004</td>\n",
       "      <td>21.354219</td>\n",
       "      <td>5.973841</td>\n",
       "      <td>77.753954</td>\n",
       "      <td>80.175980</td>\n",
       "      <td>63.169912</td>\n",
       "      <td>16.705742</td>\n",
       "    </tr>\n",
       "    <tr>\n",
       "      <th>min</th>\n",
       "      <td>102.000000</td>\n",
       "      <td>0.000000</td>\n",
       "      <td>0.000000</td>\n",
       "      <td>121.800000</td>\n",
       "      <td>0.000000</td>\n",
       "      <td>801.000000</td>\n",
       "      <td>594.000000</td>\n",
       "      <td>1.000000</td>\n",
       "      <td>2.330000</td>\n",
       "    </tr>\n",
       "    <tr>\n",
       "      <th>25%</th>\n",
       "      <td>192.375000</td>\n",
       "      <td>0.000000</td>\n",
       "      <td>0.000000</td>\n",
       "      <td>164.900000</td>\n",
       "      <td>0.000000</td>\n",
       "      <td>932.000000</td>\n",
       "      <td>730.950000</td>\n",
       "      <td>7.000000</td>\n",
       "      <td>23.710000</td>\n",
       "    </tr>\n",
       "    <tr>\n",
       "      <th>50%</th>\n",
       "      <td>272.900000</td>\n",
       "      <td>22.000000</td>\n",
       "      <td>0.000000</td>\n",
       "      <td>185.000000</td>\n",
       "      <td>6.400000</td>\n",
       "      <td>968.000000</td>\n",
       "      <td>779.500000</td>\n",
       "      <td>28.000000</td>\n",
       "      <td>34.445000</td>\n",
       "    </tr>\n",
       "    <tr>\n",
       "      <th>75%</th>\n",
       "      <td>350.000000</td>\n",
       "      <td>142.950000</td>\n",
       "      <td>118.300000</td>\n",
       "      <td>192.000000</td>\n",
       "      <td>10.200000</td>\n",
       "      <td>1029.400000</td>\n",
       "      <td>824.000000</td>\n",
       "      <td>56.000000</td>\n",
       "      <td>46.135000</td>\n",
       "    </tr>\n",
       "    <tr>\n",
       "      <th>max</th>\n",
       "      <td>540.000000</td>\n",
       "      <td>359.400000</td>\n",
       "      <td>200.100000</td>\n",
       "      <td>247.000000</td>\n",
       "      <td>32.200000</td>\n",
       "      <td>1145.000000</td>\n",
       "      <td>992.600000</td>\n",
       "      <td>365.000000</td>\n",
       "      <td>82.600000</td>\n",
       "    </tr>\n",
       "  </tbody>\n",
       "</table>\n",
       "</div>"
      ],
      "text/plain": [
       "            Cement  Blast Furnace Slag      Fly Ash        Water  \\\n",
       "count  1030.000000         1030.000000  1030.000000  1030.000000   \n",
       "mean    281.167864           73.895825    54.188350   181.567282   \n",
       "std     104.506364           86.279342    63.997004    21.354219   \n",
       "min     102.000000            0.000000     0.000000   121.800000   \n",
       "25%     192.375000            0.000000     0.000000   164.900000   \n",
       "50%     272.900000           22.000000     0.000000   185.000000   \n",
       "75%     350.000000          142.950000   118.300000   192.000000   \n",
       "max     540.000000          359.400000   200.100000   247.000000   \n",
       "\n",
       "       Superplasticizer  Coarse Aggregate  Fine Aggregate          Age  \\\n",
       "count       1030.000000       1030.000000     1030.000000  1030.000000   \n",
       "mean           6.204660        972.918932      773.580485    45.662136   \n",
       "std            5.973841         77.753954       80.175980    63.169912   \n",
       "min            0.000000        801.000000      594.000000     1.000000   \n",
       "25%            0.000000        932.000000      730.950000     7.000000   \n",
       "50%            6.400000        968.000000      779.500000    28.000000   \n",
       "75%           10.200000       1029.400000      824.000000    56.000000   \n",
       "max           32.200000       1145.000000      992.600000   365.000000   \n",
       "\n",
       "          Strength  \n",
       "count  1030.000000  \n",
       "mean     35.817961  \n",
       "std      16.705742  \n",
       "min       2.330000  \n",
       "25%      23.710000  \n",
       "50%      34.445000  \n",
       "75%      46.135000  \n",
       "max      82.600000  "
      ]
     },
     "execution_count": 6,
     "metadata": {},
     "output_type": "execute_result"
    }
   ],
   "source": [
    "concrete_data.describe()"
   ]
  },
  {
   "cell_type": "code",
   "execution_count": 7,
   "id": "088469c8",
   "metadata": {},
   "outputs": [
    {
     "data": {
      "text/plain": [
       "Cement                0\n",
       "Blast Furnace Slag    0\n",
       "Fly Ash               0\n",
       "Water                 0\n",
       "Superplasticizer      0\n",
       "Coarse Aggregate      0\n",
       "Fine Aggregate        0\n",
       "Age                   0\n",
       "Strength              0\n",
       "dtype: int64"
      ]
     },
     "execution_count": 7,
     "metadata": {},
     "output_type": "execute_result"
    }
   ],
   "source": [
    "concrete_data.isnull().sum()"
   ]
  },
  {
   "cell_type": "markdown",
   "id": "829a8154",
   "metadata": {},
   "source": [
    "The data looks very clean and is ready to be used to build our model."
   ]
  },
  {
   "cell_type": "markdown",
   "id": "4a767f60",
   "metadata": {},
   "source": [
    "The target variable in this problem is the concrete sample strength. Therefore, our predictors will be all the other columns"
   ]
  },
  {
   "cell_type": "code",
   "execution_count": 10,
   "id": "407b70a6",
   "metadata": {},
   "outputs": [],
   "source": [
    "target = np.asanyarray(concrete_data[['Strength']])\n",
    "concrete_data_columns = concrete_data.columns #\n",
    "predictors = np.asanyarray(concrete_data[concrete_data_columns[concrete_data_columns != 'Strength']] )"
   ]
  },
  {
   "cell_type": "code",
   "execution_count": 12,
   "id": "21a3c8c6",
   "metadata": {},
   "outputs": [],
   "source": [
    "from sklearn.preprocessing import StandardScaler\n",
    "scaler_predictors = StandardScaler()\n",
    "scaler_target = StandardScaler()\n",
    "scaled_predictors = scaler_predictors.fit_transform(predictors)\n",
    "scaled_target = scaler_target.fit_transform(target)"
   ]
  },
  {
   "cell_type": "code",
   "execution_count": 14,
   "id": "72cc8532",
   "metadata": {},
   "outputs": [
    {
     "data": {
      "text/plain": [
       "array([[ 2.47791487, -0.85688789, -0.84714393, -0.91676439, -0.62044832,\n",
       "         0.86315424, -1.21767004, -0.27973311],\n",
       "       [ 2.47791487, -0.85688789, -0.84714393, -0.91676439, -0.62044832,\n",
       "         1.05616419, -1.21767004, -0.27973311],\n",
       "       [ 0.49142531,  0.79552649, -0.84714393,  2.17546125, -1.03914281,\n",
       "        -0.52651741, -2.24091709,  3.55306569],\n",
       "       [ 0.49142531,  0.79552649, -0.84714393,  2.17546125, -1.03914281,\n",
       "        -0.52651741, -2.24091709,  5.05767679],\n",
       "       [-0.79045879,  0.678408  , -0.84714393,  0.48879272, -1.03914281,\n",
       "         0.07052671,  0.64788402,  4.97848673]])"
      ]
     },
     "execution_count": 14,
     "metadata": {},
     "output_type": "execute_result"
    }
   ],
   "source": [
    "scaled_predictors[0:5]"
   ]
  },
  {
   "cell_type": "code",
   "execution_count": 15,
   "id": "51932d2c",
   "metadata": {},
   "outputs": [
    {
     "data": {
      "text/plain": [
       "array([[2.64540763],\n",
       "       [1.56142148],\n",
       "       [0.26662698],\n",
       "       [0.3133402 ],\n",
       "       [0.50797859]])"
      ]
     },
     "execution_count": 15,
     "metadata": {},
     "output_type": "execute_result"
    }
   ],
   "source": [
    "scaled_target[0:5]"
   ]
  },
  {
   "cell_type": "markdown",
   "id": "ab017d9d",
   "metadata": {},
   "source": [
    "Let's save the number of predictors to ncols_ since we will need this number when building our network."
   ]
  },
  {
   "cell_type": "code",
   "execution_count": 13,
   "id": "48c7534c",
   "metadata": {},
   "outputs": [],
   "source": [
    "n_cols = scaled_predictors.shape[1] "
   ]
  },
  {
   "cell_type": "markdown",
   "id": "47b94ad1",
   "metadata": {},
   "source": [
    "import keras library \n",
    "you will have to install TensorFlow first and when you import the Keras library, it will be explicitly displayed what backend was used to install the Keras library. In CC Labs, we used TensorFlow as the backend to install Keras, so it should clearly print that when we import Keras\n",
    "if you import like this you wont recieve any further error"
   ]
  },
  {
   "cell_type": "code",
   "execution_count": 16,
   "id": "29657311",
   "metadata": {},
   "outputs": [],
   "source": [
    "from tensorflow.keras import Sequential\n",
    "from tensorflow.keras.layers import Input, Dense, Activation\n",
    "from tensorflow.keras.optimizers import Adam"
   ]
  },
  {
   "cell_type": "markdown",
   "id": "7cc995e6",
   "metadata": {},
   "source": [
    "Train and Test data by using train_test_split"
   ]
  },
  {
   "cell_type": "code",
   "execution_count": 17,
   "id": "a6baec1d",
   "metadata": {},
   "outputs": [],
   "source": [
    "from sklearn.model_selection import train_test_split"
   ]
  },
  {
   "cell_type": "code",
   "execution_count": 18,
   "id": "a768b250",
   "metadata": {},
   "outputs": [],
   "source": [
    "train_predictors, test_predictors, train_target, test_target = train_test_split(scaled_predictors, scaled_target, test_size=0.3, random_state=3)"
   ]
  },
  {
   "cell_type": "code",
   "execution_count": 20,
   "id": "b72ac018",
   "metadata": {},
   "outputs": [
    {
     "name": "stdout",
     "output_type": "stream",
     "text": [
      "(721, 8) (721, 1)\n",
      "(309, 8) (309, 1)\n"
     ]
    }
   ],
   "source": [
    "print(train_predictors.shape,train_target.shape)\n",
    "print(test_predictors.shape,test_target.shape)"
   ]
  },
  {
   "cell_type": "markdown",
   "id": "02042317",
   "metadata": {},
   "source": [
    "Use the Keras library to build a neural network with the following:\n",
    "\n",
    " One hidden layer of 10 nodes, and a ReLU activation function\n",
    " Use the adam optimizer and the mean squared error  as the loss function"
   ]
  },
  {
   "cell_type": "code",
   "execution_count": 21,
   "id": "5b56634e",
   "metadata": {},
   "outputs": [],
   "source": [
    "# define regression model\n",
    "def regression_model():\n",
    "    # create model\n",
    "    model = Sequential()\n",
    "    model.add(Dense(10, activation='relu', input_shape=(n_cols,)))\n",
    "    model.add(Dense(1))\n",
    "    \n",
    "    # compile model\n",
    "    model.compile(optimizer='adam', loss='mean_squared_error')\n",
    "    return model"
   ]
  },
  {
   "cell_type": "code",
   "execution_count": 22,
   "id": "aa142942",
   "metadata": {},
   "outputs": [],
   "source": [
    "model = regression_model()"
   ]
  },
  {
   "cell_type": "code",
   "execution_count": 23,
   "id": "73f78b8f",
   "metadata": {},
   "outputs": [
    {
     "name": "stdout",
     "output_type": "stream",
     "text": [
      "Train on 721 samples, validate on 309 samples\n",
      "Epoch 1/50\n",
      "721/721 - 2s - loss: 1.2755 - val_loss: 1.1856\n",
      "Epoch 2/50\n",
      "721/721 - 0s - loss: 1.0830 - val_loss: 1.0346\n",
      "Epoch 3/50\n",
      "721/721 - 0s - loss: 0.9330 - val_loss: 0.9161\n",
      "Epoch 4/50\n",
      "721/721 - 0s - loss: 0.8196 - val_loss: 0.8187\n",
      "Epoch 5/50\n",
      "721/721 - 0s - loss: 0.7283 - val_loss: 0.7446\n",
      "Epoch 6/50\n",
      "721/721 - 0s - loss: 0.6567 - val_loss: 0.6864\n",
      "Epoch 7/50\n",
      "721/721 - 0s - loss: 0.5992 - val_loss: 0.6390\n",
      "Epoch 8/50\n",
      "721/721 - 0s - loss: 0.5536 - val_loss: 0.6011\n",
      "Epoch 9/50\n",
      "721/721 - 0s - loss: 0.5172 - val_loss: 0.5666\n",
      "Epoch 10/50\n",
      "721/721 - 0s - loss: 0.4861 - val_loss: 0.5417\n",
      "Epoch 11/50\n",
      "721/721 - 0s - loss: 0.4588 - val_loss: 0.5179\n",
      "Epoch 12/50\n",
      "721/721 - 0s - loss: 0.4373 - val_loss: 0.4956\n",
      "Epoch 13/50\n",
      "721/721 - 0s - loss: 0.4182 - val_loss: 0.4787\n",
      "Epoch 14/50\n",
      "721/721 - 0s - loss: 0.4013 - val_loss: 0.4632\n",
      "Epoch 15/50\n",
      "721/721 - 0s - loss: 0.3874 - val_loss: 0.4497\n",
      "Epoch 16/50\n",
      "721/721 - 0s - loss: 0.3744 - val_loss: 0.4373\n",
      "Epoch 17/50\n",
      "721/721 - 0s - loss: 0.3631 - val_loss: 0.4244\n",
      "Epoch 18/50\n",
      "721/721 - 0s - loss: 0.3522 - val_loss: 0.4153\n",
      "Epoch 19/50\n",
      "721/721 - 0s - loss: 0.3426 - val_loss: 0.4058\n",
      "Epoch 20/50\n",
      "721/721 - 0s - loss: 0.3342 - val_loss: 0.3959\n",
      "Epoch 21/50\n",
      "721/721 - 0s - loss: 0.3257 - val_loss: 0.3894\n",
      "Epoch 22/50\n",
      "721/721 - 0s - loss: 0.3186 - val_loss: 0.3823\n",
      "Epoch 23/50\n",
      "721/721 - 0s - loss: 0.3116 - val_loss: 0.3760\n",
      "Epoch 24/50\n",
      "721/721 - 0s - loss: 0.3064 - val_loss: 0.3689\n",
      "Epoch 25/50\n",
      "721/721 - 0s - loss: 0.3009 - val_loss: 0.3617\n",
      "Epoch 26/50\n",
      "721/721 - 0s - loss: 0.2953 - val_loss: 0.3564\n",
      "Epoch 27/50\n",
      "721/721 - 0s - loss: 0.2899 - val_loss: 0.3518\n",
      "Epoch 28/50\n",
      "721/721 - 0s - loss: 0.2850 - val_loss: 0.3465\n",
      "Epoch 29/50\n",
      "721/721 - 0s - loss: 0.2805 - val_loss: 0.3408\n",
      "Epoch 30/50\n",
      "721/721 - 0s - loss: 0.2761 - val_loss: 0.3359\n",
      "Epoch 31/50\n",
      "721/721 - 0s - loss: 0.2720 - val_loss: 0.3305\n",
      "Epoch 32/50\n",
      "721/721 - 0s - loss: 0.2677 - val_loss: 0.3263\n",
      "Epoch 33/50\n",
      "721/721 - 0s - loss: 0.2639 - val_loss: 0.3220\n",
      "Epoch 34/50\n",
      "721/721 - 0s - loss: 0.2599 - val_loss: 0.3175\n",
      "Epoch 35/50\n",
      "721/721 - 0s - loss: 0.2561 - val_loss: 0.3126\n",
      "Epoch 36/50\n",
      "721/721 - 0s - loss: 0.2526 - val_loss: 0.3096\n",
      "Epoch 37/50\n",
      "721/721 - 0s - loss: 0.2491 - val_loss: 0.3039\n",
      "Epoch 38/50\n",
      "721/721 - 0s - loss: 0.2459 - val_loss: 0.3016\n",
      "Epoch 39/50\n",
      "721/721 - 0s - loss: 0.2419 - val_loss: 0.2978\n",
      "Epoch 40/50\n",
      "721/721 - 0s - loss: 0.2385 - val_loss: 0.2934\n",
      "Epoch 41/50\n",
      "721/721 - 0s - loss: 0.2355 - val_loss: 0.2889\n",
      "Epoch 42/50\n",
      "721/721 - 0s - loss: 0.2327 - val_loss: 0.2857\n",
      "Epoch 43/50\n",
      "721/721 - 0s - loss: 0.2297 - val_loss: 0.2824\n",
      "Epoch 44/50\n",
      "721/721 - 0s - loss: 0.2272 - val_loss: 0.2787\n",
      "Epoch 45/50\n",
      "721/721 - 0s - loss: 0.2247 - val_loss: 0.2757\n",
      "Epoch 46/50\n",
      "721/721 - 0s - loss: 0.2218 - val_loss: 0.2725\n",
      "Epoch 47/50\n",
      "721/721 - 0s - loss: 0.2193 - val_loss: 0.2697\n",
      "Epoch 48/50\n",
      "721/721 - 0s - loss: 0.2179 - val_loss: 0.2672\n",
      "Epoch 49/50\n",
      "721/721 - 0s - loss: 0.2149 - val_loss: 0.2646\n",
      "Epoch 50/50\n",
      "721/721 - 0s - loss: 0.2131 - val_loss: 0.2626\n"
     ]
    },
    {
     "data": {
      "text/plain": [
       "<tensorflow.python.keras.callbacks.History at 0x1d332e36b48>"
      ]
     },
     "execution_count": 23,
     "metadata": {},
     "output_type": "execute_result"
    }
   ],
   "source": [
    "model.fit(train_predictors, train_target, validation_data=(test_predictors, test_target), epochs=50, verbose=2)"
   ]
  },
  {
   "cell_type": "code",
   "execution_count": 24,
   "id": "f0f841c7",
   "metadata": {},
   "outputs": [],
   "source": [
    "yhat = model.predict(test_predictors)"
   ]
  },
  {
   "cell_type": "code",
   "execution_count": 26,
   "id": "7ebfbe3e",
   "metadata": {},
   "outputs": [
    {
     "data": {
      "text/plain": [
       "array([[-0.8710821 ],\n",
       "       [ 0.26539585],\n",
       "       [ 0.27025312],\n",
       "       [-0.2740717 ],\n",
       "       [ 1.8145323 ]], dtype=float32)"
      ]
     },
     "execution_count": 26,
     "metadata": {},
     "output_type": "execute_result"
    },
    {
     "name": "stdout",
     "output_type": "stream",
     "text": [
      "ERROR! Session/line number was not unique in database. History logging moved to new session 466\n"
     ]
    }
   ],
   "source": [
    "yhat[0:5]"
   ]
  },
  {
   "cell_type": "code",
   "execution_count": 28,
   "id": "b5119193",
   "metadata": {},
   "outputs": [
    {
     "data": {
      "text/plain": [
       "array([[-1.06949074],\n",
       "       [ 0.37861892],\n",
       "       [ 0.83556999],\n",
       "       [-0.47180115],\n",
       "       [ 2.6040844 ]])"
      ]
     },
     "execution_count": 28,
     "metadata": {},
     "output_type": "execute_result"
    }
   ],
   "source": [
    "test_target[0:5]"
   ]
  },
  {
   "cell_type": "code",
   "execution_count": 29,
   "id": "03ce0dc7",
   "metadata": {},
   "outputs": [],
   "source": [
    "from sklearn.metrics import mean_squared_error, mean_absolute_error, r2_score"
   ]
  },
  {
   "cell_type": "code",
   "execution_count": 31,
   "id": "a88d2deb",
   "metadata": {},
   "outputs": [
    {
     "name": "stdout",
     "output_type": "stream",
     "text": [
      "0.2625884383748285\n",
      "0.3854327156370485\n",
      "0.6061348822650865\n"
     ]
    }
   ],
   "source": [
    "print(mean_squared_error(yhat,test_target))\n",
    "print(mean_absolute_error(yhat,test_target))\n",
    "print(r2_score(yhat,test_target))"
   ]
  },
  {
   "cell_type": "code",
   "execution_count": null,
   "id": "b721c6df",
   "metadata": {},
   "outputs": [],
   "source": []
  }
 ],
 "metadata": {
  "kernelspec": {
   "display_name": "Python 3 (ipykernel)",
   "language": "python",
   "name": "python3"
  },
  "language_info": {
   "codemirror_mode": {
    "name": "ipython",
    "version": 3
   },
   "file_extension": ".py",
   "mimetype": "text/x-python",
   "name": "python",
   "nbconvert_exporter": "python",
   "pygments_lexer": "ipython3",
   "version": "3.7.11"
  }
 },
 "nbformat": 4,
 "nbformat_minor": 5
}
